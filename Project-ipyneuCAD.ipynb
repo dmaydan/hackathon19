{
 "cells": [
  {
   "cell_type": "markdown",
   "metadata": {
    "slideshow": {
     "slide_type": "slide"
    }
   },
   "source": [
    "# ipyneuCAD : FFBH2019 - Project\n",
    "`ipyneuCAD` ([GitHub](https://github.com/TK-21st/ipyneuCAD)) is a graph visualization package built on top of the ipywidget framework. In it's current incarnation, Neu3D focuses on graphs compatible with NeuroDriver's `gexf` format."
   ]
  },
  {
   "cell_type": "markdown",
   "metadata": {},
   "source": [
    "You can fork the [repo](https://github.com/TK-21st/ipyneuCAD) to get a copy of the `ipyneuCAD` package. \n",
    "Follow the description on the in the `README` in the repo for installation instructions."
   ]
  },
  {
   "cell_type": "markdown",
   "metadata": {},
   "source": [
    "## Development\n",
    "Use the following tips for development:\n",
    "1. Make use of Chrome's DevTools for de-bugging and testing purposes.\n",
    "2. Make sure to disable cache when developing. See [Here](https://stackoverflow.com/questions/5690269/disabling-chrome-cache-for-website-development)\n",
    "3. Use `notebooks/Test.ipynb` for testing \n",
    "4. `ipyneuCAD` uses `sigmajs` [v2](https://github.com/jacomyal/sigma.js/tree/v2) and [`graphology`](https://graphology.github.io/) libraries for in browser processing of graph data. "
   ]
  },
  {
   "cell_type": "markdown",
   "metadata": {},
   "source": [
    "## Development Ideas"
   ]
  },
  {
   "cell_type": "markdown",
   "metadata": {},
   "source": [
    "A few ideas to get you started:\n",
    "1. UI:\n",
    "    * Add additional functionalities: change color of a node \n",
    "    * Add drag capability over nodes\n",
    "    * Dynamically change the way size of neurons and edges are computed: based on `inDegree`, `outDegree`, or `degree`. \n",
    "2. Layout:\n",
    "    * Add additional layouting methods: e.g. circular, random\n",
    "3. Advanced:\n",
    "    * Synchronize data in javascript model with the python model.\n",
    "    * Integration of `ipyneuCAD` with JupyterLab environment."
   ]
  },
  {
   "cell_type": "markdown",
   "metadata": {},
   "source": [
    "## Reference: ipyneuCAD Usage\n"
   ]
  },
  {
   "cell_type": "code",
   "execution_count": 3,
   "metadata": {},
   "outputs": [],
   "source": [
    "from ipyneuCAD import NeuCAD\n",
    "from networkx import read_gexf"
   ]
  },
  {
   "cell_type": "code",
   "execution_count": 4,
   "metadata": {},
   "outputs": [],
   "source": [
    "g = read_gexf('./larval_al.gexf')"
   ]
  },
  {
   "cell_type": "code",
   "execution_count": 5,
   "metadata": {},
   "outputs": [],
   "source": [
    "nc = NeuCAD(g)"
   ]
  },
  {
   "cell_type": "code",
   "execution_count": 6,
   "metadata": {},
   "outputs": [
    {
     "data": {
      "application/vnd.jupyter.widget-view+json": {
       "model_id": "242c0e0945c34c0ebcb2f64230b9ffb7",
       "version_major": 2,
       "version_minor": 0
      },
      "text/plain": [
       "NeuCAD(datGUISettings={'autoPlace': False, 'resizable': True, 'scrollable': False, 'closeOnTop': True}, data={…"
      ]
     },
     "metadata": {},
     "output_type": "display_data"
    }
   ],
   "source": [
    "display(nc)"
   ]
  },
  {
   "cell_type": "markdown",
   "metadata": {},
   "source": [
    "Currently, the supported user interactions include:\n",
    "1. Force Atlas Layout\n",
    "2. See attributes of each node by clicking on a node in the graph."
   ]
  },
  {
   "cell_type": "code",
   "execution_count": null,
   "metadata": {},
   "outputs": [],
   "source": []
  }
 ],
 "metadata": {
  "celltoolbar": "Slideshow",
  "kernelspec": {
   "display_name": "Python 3",
   "language": "python",
   "name": "python3"
  },
  "language_info": {
   "codemirror_mode": {
    "name": "ipython",
    "version": 3
   },
   "file_extension": ".py",
   "mimetype": "text/x-python",
   "name": "python",
   "nbconvert_exporter": "python",
   "pygments_lexer": "ipython3",
   "version": "3.6.8"
  },
  "livereveal": {
   "theme": "serif"
  }
 },
 "nbformat": 4,
 "nbformat_minor": 2
}
