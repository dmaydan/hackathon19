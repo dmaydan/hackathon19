{
 "cells": [
  {
   "cell_type": "code",
   "execution_count": 1,
   "metadata": {
    "slideshow": {
     "slide_type": "skip"
    }
   },
   "outputs": [],
   "source": [
    "from IPython.display import IFrame, HTML"
   ]
  },
  {
   "cell_type": "markdown",
   "metadata": {
    "slideshow": {
     "slide_type": "slide"
    }
   },
   "source": [
    "# Fruit Fly Brain Hackathon\n",
    "\n",
    "**Wednesday, March 20, 2019** <br>\n",
    "**Center for Neural Engineering and Computation** <br>\n",
    "**Columbia University, New York, NY, USA** <br>"
   ]
  },
  {
   "cell_type": "markdown",
   "metadata": {
    "slideshow": {
     "slide_type": "slide"
    }
   },
   "source": [
    "## Why *Fly*?\n",
    "*\"Everything should be as simple as possible, but not simpler.\"*\n",
    "<p style='text-align: right;'> by A. Einstein. </p>\n",
    "\n",
    "* Rich data, ex. genetic information, anatomy, physiology, *etc*.\n",
    "* Building blocks of cognition.\n",
    "* 100k neurons - can be emulated on the commodity hardware.\n",
    "* Neurodegenerative diseases."
   ]
  },
  {
   "cell_type": "markdown",
   "metadata": {
    "slideshow": {
     "slide_type": "slide"
    }
   },
   "source": [
    "## Fruit Fly Brain Observatory\n",
    "\n",
    "A meeting ground for *All*:\n",
    "<div class=\"row\">\n",
    "  <div class=\"col-md-6\"  markdown=\"1\">\n",
    "    <ul>\n",
    "      <li>neurobiologists</li>\n",
    "      <li>modelers</li>\n",
    "      <li>hackers</li>\n",
    "    </ul>\n",
    "  </div>\n",
    "  <div class=\"col-md-6\"  markdown=\"1\"><img src=\"ffbh.png\" alt=\"drawing\"height=\"600px\" class=\"center-block\"/></div>\n",
    "</div>\n"
   ]
  },
  {
   "cell_type": "markdown",
   "metadata": {
    "slideshow": {
     "slide_type": "subslide"
    }
   },
   "source": [
    "## Fruit Fly Brain Observatory\n",
    "\n",
    " A collaborative ecosystem for studying fly brain function <i>via</i> <span style='color:#f442d4'>Integration</span> of\n",
    "<div class=\"row\">\n",
    "  <div class=\"col-md-6\"  markdown=\"1\">\n",
    "     <ul>\n",
    "      <li>neurogenetics, anatomy and physiology</li>\n",
    "      <li>computational modeling data</li>\n",
    "      <li>executable code</li>\n",
    "     </ul>\n",
    "  </div>\n",
    "  <div class=\"col-md-6\"  markdown=\"1\"><img src=\"ffbh.png\" alt=\"drawing\"height=\"600px\" class=\"center-block\"/></div>\n",
    "</div>"
   ]
  },
  {
   "cell_type": "markdown",
   "metadata": {
    "slideshow": {
     "slide_type": "slide"
    }
   },
   "source": [
    "## NeuroNLP\n",
    "*A Natural Language Portal for Aggregated Fly Brain Data.*"
   ]
  },
  {
   "cell_type": "code",
   "execution_count": 2,
   "metadata": {
    "scrolled": false,
    "slideshow": {
     "slide_type": "fragment"
    }
   },
   "outputs": [
    {
     "data": {
      "text/html": [
       "\n",
       "        <iframe\n",
       "            width=\"100%\"\n",
       "            height=\"400px\"\n",
       "            src=\"https://neuronlp.fruitflybrain.org/\"\n",
       "            frameborder=\"0\"\n",
       "            allowfullscreen\n",
       "        ></iframe>\n",
       "        "
      ],
      "text/plain": [
       "<IPython.lib.display.IFrame at 0x10820d908>"
      ]
     },
     "execution_count": 2,
     "metadata": {},
     "output_type": "execute_result"
    }
   ],
   "source": [
    "IFrame('https://neuronlp.fruitflybrain.org/', width='100%', height='400px')"
   ]
  },
  {
   "cell_type": "markdown",
   "metadata": {
    "slideshow": {
     "slide_type": "slide"
    }
   },
   "source": [
    "## NeuroGFX\n",
    "*A Graphic Functional Explorer for the Fruit Fly Brain*."
   ]
  },
  {
   "cell_type": "code",
   "execution_count": 3,
   "metadata": {
    "slideshow": {
     "slide_type": "fragment"
    }
   },
   "outputs": [
    {
     "data": {
      "text/html": [
       "\n",
       "        <iframe\n",
       "            width=\"100%\"\n",
       "            height=\"500px\"\n",
       "            src=\"https://neurogfx.fruitflybrain.org/\"\n",
       "            frameborder=\"0\"\n",
       "            allowfullscreen\n",
       "        ></iframe>\n",
       "        "
      ],
      "text/plain": [
       "<IPython.lib.display.IFrame at 0x10820d860>"
      ]
     },
     "execution_count": 3,
     "metadata": {},
     "output_type": "execute_result"
    }
   ],
   "source": [
    "IFrame('https://neurogfx.fruitflybrain.org/', width='100%', height='500px')"
   ]
  },
  {
   "cell_type": "markdown",
   "metadata": {
    "slideshow": {
     "slide_type": "slide"
    }
   },
   "source": [
    "## FlyBrainLab\n",
    "*<span style='color:#f442d4'>Integration</span>&nbsp; - &nbsp;<span style='color:#b241f4'>Interaction</span>&nbsp; - &nbsp;<span style='color:#5241f4'>Innovation</span>*\n"
   ]
  },
  {
   "cell_type": "markdown",
   "metadata": {
    "slideshow": {
     "slide_type": "fragment"
    }
   },
   "source": [
    "<div class=\"row\">\n",
    "    <div class=\"col-md-6\">\n",
    "     Jupyter Lab came out in 2018.\n",
    "     <ul>\n",
    "      <li>FFBO - <strong>Integrative</strong> ecosystem.</li>\n",
    "      <li>FBLab - <strong>Interactive</strong> computing.</li>\n",
    "      <li>Hackathon - <strong>Innovation!</strong></li>\n",
    "     </ul>\n",
    "  </div>\n",
    "  <div class=\"col-md-6\"><img src=\"http://www.bionet.ee.columbia.edu/images/FBL1.png\" alt=\"drawing\"/></div>\n",
    "</div>"
   ]
  },
  {
   "cell_type": "markdown",
   "metadata": {
    "slideshow": {
     "slide_type": "slide"
    }
   },
   "source": [
    "## Schedule\n",
    "\n",
    "* 09:00 - 09:10 - Introduction to the Fruit Fly Brain Hackathon.\n",
    "* 09:10 - 09:15 - Self-introductions by Participants. \n",
    "* 09:15 - 09:30 - Introduction to FlyBrainLab.\n",
    "* 09:30 - 12:30 - Hacking: Basic Features of FBL.\n",
    "* 12:30 - 13:30 - Lunch Break.\n",
    "* 13:30 - 13:45 - Building Models of Fly Brain Neuropil Using FBL.\n",
    "* 13:45 - 13:00 - Discussions and Summary of Project Ideas.\n",
    "* 14:00 - 18:00 - Hacking."
   ]
  }
 ],
 "metadata": {
  "celltoolbar": "Slideshow",
  "kernelspec": {
   "display_name": "Python 3",
   "language": "python",
   "name": "python3"
  },
  "language_info": {
   "codemirror_mode": {
    "name": "ipython",
    "version": 3
   },
   "file_extension": ".py",
   "mimetype": "text/x-python",
   "name": "python",
   "nbconvert_exporter": "python",
   "pygments_lexer": "ipython3",
   "version": "3.6.6"
  },
  "livereveal": {
   "theme": "serif"
  }
 },
 "nbformat": 4,
 "nbformat_minor": 2
}
