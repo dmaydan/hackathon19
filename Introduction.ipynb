{
 "cells": [
  {
   "cell_type": "code",
   "execution_count": 4,
   "metadata": {
    "slideshow": {
     "slide_type": "skip"
    }
   },
   "outputs": [],
   "source": [
    "from IPython.display import IFrame, HTML\n",
    "# from traitlets.config.manager import BaseJSONConfigManager\n",
    "# path = \"/Users/chungheng/anaconda3/envs/py3/etc/jupyter/nbconfig\"\n",
    "# cm = BaseJSONConfigManager(config_dir=path)\n",
    "# cm.update(\"livereveal\", {\n",
    "#             \"width\": 1024,\n",
    "#             \"height\": 768,\n",
    "#             \"theme\": \"solarized\",\n",
    "#             \"transition\": \"zoom\",\n",
    "#             \"start_slideshow_at\": \"beginning\",\n",
    "# })"
   ]
  },
  {
   "cell_type": "markdown",
   "metadata": {
    "slideshow": {
     "slide_type": "slide"
    }
   },
   "source": [
    "# Fruit Fly Brain Hackathon\n",
    "\n",
    "<div><img src='background.jpeg'></div>\n",
    "\n",
    "**Wednesday, March 20, 2019** <br>\n",
    "**Center for Neural Engineering and Computation** <br>\n",
    "**Columbia University, New York, NY, USA** <br>"
   ]
  },
  {
   "cell_type": "markdown",
   "metadata": {
    "slideshow": {
     "slide_type": "slide"
    }
   },
   "source": [
    "## Why *Fly*?\n",
    "\n",
    "<br>\n",
    "<div class=\"row\">\n",
    "  <div class=\"col-md-7\">\n",
    "     <ul>\n",
    "      <li>Rich data, ex. genetic information, anatomy, physiology, <i>etc</i>.</li>\n",
    "      <li>Building blocks of cognition.</li>\n",
    "      <li>100k neurons - can be emulated on the commodity hardware.</li>\n",
    "      <li>Neurodegenerative diseases.</li>\n",
    "    </ul>\n",
    "  </div>\n",
    "  <div class=\"col-md-5\"  markdown=\"1\">\n",
    "    <img width=\"400px\" src=\"ffbo.gif\">\n",
    "  </div>\n",
    "</div>"
   ]
  },
  {
   "cell_type": "markdown",
   "metadata": {
    "slideshow": {
     "slide_type": "fragment"
    }
   },
   "source": [
    "\n",
    "<div class=\"row\">\n",
    "  <div class=\"col-sm-1\">\n",
    "  </div>\n",
    "  <div class=\"col-sm-2\">\n",
    "    <img width=\"200px\" style=\"background: #000\" src=\"https://www.embedded-vision.com/sites/default/files/news/GoogleAI_logo_horizontal_color_rgb.png\">\n",
    "  </div>\n",
    "  <div class=\"col-sm-2\">\n",
    "    <img width=\"200px\" style=\"background: #000; margin-top:30%\" src=\"https://www.janelia.org/sites/all/themes/janelia7/logo.png\">\n",
    "  </div>\n",
    "  <div class=\"col-sm-2\">\n",
    "    <img width=\"100px\" style=\"background: #000; margin-top:25%\" src=\"https://dl4physicalsciences.github.io/images/NIPS.svg\">\n",
    "  </div>\n",
    "</div>\n"
   ]
  },
  {
   "cell_type": "markdown",
   "metadata": {
    "slideshow": {
     "slide_type": "fragment"
    }
   },
   "source": [
    "*\"Everything should be as simple as possible, but not simpler.\"*\n",
    "<p style='text-align: right;'> by A. Einstein </p>"
   ]
  },
  {
   "cell_type": "markdown",
   "metadata": {
    "slideshow": {
     "slide_type": "slide"
    }
   },
   "source": [
    "## Fruit Fly Brain Observatory\n",
    "\n",
    "A collaborative ecosystem for *All*:\n",
    "<div class=\"row\">\n",
    "  <div class=\"col-md-6\">\n",
    "    <div>\n",
    "    <ul>\n",
    "      <li>neurobiologists</li>\n",
    "      <li>modelers</li>\n",
    "      <li>hackers</li>\n",
    "    </ul>\n",
    "    </div>\n",
    "    <br>\n",
    "    <div style=\"visibility:hidden\">\n",
    "      FFBO provides <span style='color:#f442d4'>integration</span> of:\n",
    "      <ul>\n",
    "        <li>neurogenetics, anatomy and physiology</li>\n",
    "        <li>computational modeling data</li>\n",
    "        <li>executable code</li>\n",
    "      </ul>  \n",
    "    </div>\n",
    "  </div>\n",
    "  <div class=\"col-md-6 col-offset-6\"  markdown=\"1\">\n",
    "    <img src=\"ffbh.png\" style=\"background: #000\" alt=\"drawing\"height=\"600px\" class=\"center-block\"/>\n",
    "  </div>\n",
    "</div>"
   ]
  },
  {
   "cell_type": "markdown",
   "metadata": {
    "slideshow": {
     "slide_type": "subslide"
    }
   },
   "source": [
    "## Fruit Fly Brain Observatory\n",
    "\n",
    "A collaborative ecosystem for *All*:\n",
    "<div class=\"row\">\n",
    "  <div class=\"col-md-6\">\n",
    "    <div>\n",
    "    <ul>\n",
    "      <li>neurobiologists</li>\n",
    "      <li>modelers</li>\n",
    "      <li>hackers</li>\n",
    "    </ul>\n",
    "    </div>\n",
    "    <br>\n",
    "    <div>\n",
    "      FFBO provides <span style='color:#f442d4'>integration</span> of:\n",
    "      <ul>\n",
    "        <li>neurogenetics, anatomy and physiology</li>\n",
    "        <li>computational modeling data</li>\n",
    "        <li>executable code</li>\n",
    "      </ul>  \n",
    "    </div>\n",
    "  </div>\n",
    "  <div class=\"col-md-6 col-offset-6\"  markdown=\"1\">\n",
    "    <img src=\"ffbh.png\" style=\"background: #000\" alt=\"drawing\"height=\"600px\" class=\"center-block\"/></div>\n",
    "</div>"
   ]
  },
  {
   "cell_type": "markdown",
   "metadata": {
    "slideshow": {
     "slide_type": "slide"
    }
   },
   "source": [
    "## NeuroNLP\n",
    "*A Natural Language Portal for Aggregated Fly Brain Data.*"
   ]
  },
  {
   "cell_type": "code",
   "execution_count": 5,
   "metadata": {
    "scrolled": false,
    "slideshow": {
     "slide_type": "fragment"
    }
   },
   "outputs": [
    {
     "data": {
      "text/html": [
       "\n",
       "        <iframe\n",
       "            width=\"100%\"\n",
       "            height=\"600px\"\n",
       "            src=\"https://neuronlp.fruitflybrain.org/\"\n",
       "            frameborder=\"0\"\n",
       "            allowfullscreen\n",
       "        ></iframe>\n",
       "        "
      ],
      "text/plain": [
       "<IPython.lib.display.IFrame at 0x10ceca6a0>"
      ]
     },
     "execution_count": 5,
     "metadata": {},
     "output_type": "execute_result"
    }
   ],
   "source": [
    "IFrame('https://neuronlp.fruitflybrain.org/', width='100%', height='600px')"
   ]
  },
  {
   "cell_type": "markdown",
   "metadata": {
    "slideshow": {
     "slide_type": "slide"
    }
   },
   "source": [
    "## NeuroGFX\n",
    "*A Graphic Functional Explorer for the Fruit Fly Brain*."
   ]
  },
  {
   "cell_type": "code",
   "execution_count": 3,
   "metadata": {
    "scrolled": true,
    "slideshow": {
     "slide_type": "fragment"
    }
   },
   "outputs": [
    {
     "data": {
      "text/html": [
       "\n",
       "        <iframe\n",
       "            width=\"100%\"\n",
       "            height=\"500px\"\n",
       "            src=\"https://neurogfx.fruitflybrain.org/\"\n",
       "            frameborder=\"0\"\n",
       "            allowfullscreen\n",
       "        ></iframe>\n",
       "        "
      ],
      "text/plain": [
       "<IPython.lib.display.IFrame at 0x10458fe10>"
      ]
     },
     "execution_count": 3,
     "metadata": {},
     "output_type": "execute_result"
    }
   ],
   "source": [
    "IFrame('https://neurogfx.fruitflybrain.org/', width='100%', height='500px')"
   ]
  },
  {
   "cell_type": "markdown",
   "metadata": {
    "slideshow": {
     "slide_type": "slide"
    }
   },
   "source": [
    "## FlyBrainLab + Hackathon\n",
    "*<span style='color:#f442d4'>Integration</span>&nbsp; - &nbsp;<span style='color:#b241f4'>Interaction</span>&nbsp; - &nbsp;<span style='color:#5261f4'>Innovation</span>*\n"
   ]
  },
  {
   "cell_type": "markdown",
   "metadata": {
    "slideshow": {
     "slide_type": "fragment"
    }
   },
   "source": [
    "&#128077; FFBO spearheads an <i style='color:#f442d4'>integrative</i> ecosystem.\n",
    "<p style='text-align: right;'> <i>... still barriers between different domains.</i></p>"
   ]
  },
  {
   "cell_type": "markdown",
   "metadata": {
    "slideshow": {
     "slide_type": "fragment"
    }
   },
   "source": [
    "&#x270C; FlyBrainLab enables <i style='color:#b241f4'>interactive</i> computing.\n",
    "<p style='text-align: right;'> ... <i>Jupyter Lab came out in 2018.</i></p>"
   ]
  },
  {
   "cell_type": "markdown",
   "metadata": {
    "slideshow": {
     "slide_type": "fragment"
    }
   },
   "source": [
    "&#128293; Hackathon sparks <i style='color:#5261f4'> innovative</i> ideas!\n",
    "<p style='text-align: right;'> ... It is <strong>YOUR</strong> term now.</p>"
   ]
  },
  {
   "cell_type": "markdown",
   "metadata": {
    "slideshow": {
     "slide_type": "slide"
    }
   },
   "source": [
    "## Schedule\n",
    "\n",
    "* 09:00 - 09:10 - Introduction to the Fruit Fly Brain Hackathon.\n",
    "* 09:10 - 09:15 - Self-introductions by Participants. \n",
    "* 09:15 - 09:30 - Introduction to FlyBrainLab.\n",
    "* 09:30 - 12:30 - Hacking: Basic Features of FBL.\n",
    "* 12:30 - 13:30 - Lunch Break.\n",
    "* 13:30 - 13:45 - Building Models of Fly Brain Neuropil Using FBL.\n",
    "* 13:45 - 13:00 - Discussions and Summary of Project Ideas.\n",
    "* 14:00 - 18:00 - Hacking."
   ]
  }
 ],
 "metadata": {
  "celltoolbar": "Slideshow",
  "kernelspec": {
   "display_name": "Python 3",
   "language": "python",
   "name": "python3"
  },
  "language_info": {
   "codemirror_mode": {
    "name": "ipython",
    "version": 3
   },
   "file_extension": ".py",
   "mimetype": "text/x-python",
   "name": "python",
   "nbconvert_exporter": "python",
   "pygments_lexer": "ipython3",
   "version": "3.6.6"
  },
  "livereveal": {
   "footer": "<div style='width: 100vw; margin: 0 auto;'><h5 style='text-align:center;'>Fruit Fly Brain Hackathon 2019</h5></div>",
   "start_slideshow_at": "beginning",
   "theme": "serif",
   "transition": "none"
  }
 },
 "nbformat": 4,
 "nbformat_minor": 2
}
