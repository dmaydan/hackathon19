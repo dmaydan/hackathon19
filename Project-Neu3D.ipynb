{
 "cells": [
  {
   "cell_type": "markdown",
   "metadata": {
    "slideshow": {
     "slide_type": "slide"
    }
   },
   "source": [
    "# Neu3D : FFBH2019 - Project\n",
    "`Neu3D` ([NPM](https://www.npmjs.com/package/neu3d), [GitHub](https://github.com/fruitflybrain/neu3d)) is a 3D SWC visualization package. In it's current incarnation, Neu3D focuses on Fruitfly brain visualization and provides a collection of user interactions that drives `NeuroNLP`. "
   ]
  },
  {
   "cell_type": "markdown",
   "metadata": {},
   "source": [
    "You can fork the [repo](https://github.com/fruitflybrain/neu3d) to get a copy of the Neu3D package. "
   ]
  },
  {
   "cell_type": "markdown",
   "metadata": {},
   "source": [
    "## Installation"
   ]
  },
  {
   "cell_type": "markdown",
   "metadata": {},
   "source": [
    "Do the following steps to \n",
    "```\n",
    "git clone your-neu3d-fork\n",
    "cd neu3d\n",
    "npm install \n",
    "npm run build\n",
    "python -m http.server 8000\n",
    "```\n",
    "The last step launches an http server on port 8000, which can be accessed by visiting `localhost:8000/examples/larva.html` in your browser.\n",
    "\n",
    "**Note**: We recommend **Chrome** for development of Neu3D.\n",
    "**Note**: The swc files provided are for Drosophila larva and have a different center and scale as opposed to the adult data (`examples/adult.html`)."
   ]
  },
  {
   "cell_type": "markdown",
   "metadata": {},
   "source": [
    "## Development\n",
    "Use the following tips for development:\n",
    "1. Run `npm run watch` in a terminal different from the one you're launching http server from. This allows for continuously update and re-compile Neu3D.\n",
    "2. Make use of Chrome's DevTools for de-bugging and testing purposes.\n",
    "3. Make sure to disable cache when developing. See [Here](https://stackoverflow.com/questions/5690269/disabling-chrome-cache-for-website-development)"
   ]
  },
  {
   "cell_type": "markdown",
   "metadata": {},
   "source": [
    "### Example - Add function to animate bloompass strength\n",
    "We demonstrate how to add functionalities to the neu3d library with a simply example:\n",
    "1. Edit `neu3d/index.js` by adding the `prototype` functions to the `Neu3D` class\n",
    "2. Test the custom function by executing `neu3d.animateBloomPass` in the console\n",
    "\n",
    "You should see the objects fluctuating in bloom pass strength when you execute the function."
   ]
  },
  {
   "cell_type": "markdown",
   "metadata": {},
   "source": [
    "\n",
    "```javascript\n",
    "// neu3d/index.js\n",
    "\n",
    "import { Neu3D } from './src/neu3d';                                                            \n",
    "\n",
    "// Beginning your code here\n",
    "\n",
    "/**                                                                                             \n",
    " * Custom Function to animate Bloom Pass                                                   \n",
    " *                                                                                              \n",
    " * @param interval time inveral (ms) at which the bloompass is updated                          \n",
    " * @param period   period (ms) of bloom pass oscillation                                        \n",
    " * @param amplitude bloompass value is in range [0,amplitude]                                   \n",
    " */                                                                                             \n",
    "Neu3D._animateBPTimer = undefined;                                                              \n",
    "Neu3D.prototype.animateBloomPass = function (interval=100, period=5000, amplitude=1){           \n",
    "    if (this._animateBPTimer === undefined){                                                    \n",
    "        this._animateBPTimer = setInterval(()=>{                                                \n",
    "            let d = new Date();                                                                 \n",
    "            let bp = amplitude * (1+Math.sin( 2*3.1415*(d.getTime() % period)/period));         \n",
    "            this.settings.bloomPass.strength = bp;                                              \n",
    "        }, interval);                                                                           \n",
    "    }                                                                                           \n",
    "}                                                                                               \n",
    "                                                                                                \n",
    "Neu3D.prototype.stopBloomPass = function(clear=false){                                          \n",
    "    clearInterval(this._animateBPTimer);                                                        \n",
    "                                                                                                \n",
    "    if (clear === true){ // reset to default value                                              \n",
    "        this.settings.bloomPass.strength = 0.2;                                                 \n",
    "    }                                                                                           \n",
    "    this._animateBPTimer = undefined;                                                           \n",
    "}                    \n",
    "\n",
    "// end of your code\n",
    "\n",
    "export { Neu3D };\n",
    "```"
   ]
  },
  {
   "cell_type": "markdown",
   "metadata": {},
   "source": [
    "You can also extend the control panel by defining a function that adds a [font-awesome](https://fontawesome.com/) button (`fa fa-sun` in this case) with a callback to toggle Bloom Pass Animation.\n",
    "\n",
    "```javascript\n",
    "// neu3d/index.js\n",
    "\n",
    "import { Neu3D } from './src/neu3d';                                                            \n",
    "\n",
    "// Beginning your code here\n",
    "/**                                                                                             \n",
    " * Custom Function to animate Bloom Pass                                             \n",
    " *                                                                                              \n",
    " * @param interval time inveral (ms) at which the bloompass is updated                          \n",
    " * @param period   period (ms) of bloom pass oscillation                                        \n",
    " * @param amplitude bloompass value is in range [0,amplitude]                                   \n",
    " */                                                                                             \n",
    "Neu3D._animateBPTimer = undefined;                                                              \n",
    "Neu3D.prototype.animateBloomPass = function (interval=100, period=1000, amplitude=1){           \n",
    "    if (this._animateBPTimer === undefined){                                                    \n",
    "        this._animateBPTimer = setInterval(()=>{                                                \n",
    "            let d = new Date();                                                                 \n",
    "            let bp = amplitude * (1+Math.sin( 2*3.1415*(d.getTime() % period)/period));         \n",
    "            this.settings.bloomPass.strength = bp;                                              \n",
    "        }, interval);                                                                           \n",
    "    }                                                                                           \n",
    "}                                                                                               \n",
    "                                                                                                \n",
    "Neu3D.prototype.stopBloomPass = function(clear=false){                                          \n",
    "    clearInterval(this._animateBPTimer);                                                        \n",
    "                                                                                                \n",
    "    if (clear === true){ // reset to default value                                              \n",
    "        this.settings.bloomPass.strength = 0.2;                                                 \n",
    "    }                                                                                           \n",
    "    this._animateBPTimer = undefined;                                                           \n",
    "}                                                                                               \n",
    "                                                                                                \n",
    "                                                                                                \n",
    "/**                                                                                             \n",
    " * Add a button to toggle animateBloomPass                                                      \n",
    " */                                                                                             \n",
    "Neu3D.prototype.addBloomPassBtn= function(){                                                    \n",
    "    const _createBtn = (name, icon, iconAttrs, tooltip, func) =>{                               \n",
    "        let newButton = function () {                                                           \n",
    "            this[name] = func;                                                                  \n",
    "        };                                                                                      \n",
    "        let btn = new newButton();                                                              \n",
    "        let buttonid = this.controlPanel.add(btn, name).title(tooltip).icon(icon,\"strip\",iconAt\\\n",
    "trs);                                                                                           \n",
    "        return buttonid;                                                                        \n",
    "    }                                                                                           \n",
    "                                                                                                \n",
    "    let newBtn = _createBtn(\"toggleBP\", \"far fa-sun\", {}, \"Toggle Animate BloomPass\",           \n",
    "                            () => {                                                             \n",
    "                                                                                                \n",
    "                                if (this._animateBPTimer === undefined){                        \n",
    "                                    this.animateBloomPass();                                    \n",
    "                                }else{                                                          \n",
    "                                    this.stopBloomPass();                                       \n",
    "                                }                                                               \n",
    "                            }                                                                   \n",
    "                           );                                                                   \n",
    "    window.newBtn = newBtn;                                                                     \n",
    "    // this is a hacky way to add the UI button.                                                \n",
    "    // Neu3D.controlPanel.__ul gives an unordered list of all buttons in the dat.GUI.           \n",
    "    // children[2] points to the first UI button.                                               \n",
    "    this.controlPanel.__ul.insertBefore(newBtn.__li, this.controlPanel.__ul.children[2]);       \n",
    "}\n",
    "\n",
    "\n",
    "// end of your code\n",
    "export { Neu3D };\n",
    "```"
   ]
  },
  {
   "cell_type": "markdown",
   "metadata": {},
   "source": [
    "Now if you execute `neu3d.addBloomPassBtn()` in console, you will be greeted with the new panel. Notice that the first button now toggle Bloom Pass Animation.\n",
    "\n",
    "Alternatively, you can add `neu3d.addBloomPassBtn()` to your `index.html` file and have it automatically loaded:\n",
    "```html\n",
    "// neu3d/index.html\n",
    "...\n",
    "var neu3d = new Neu3D(parentDiv,                                                          \n",
    "                       undefined,                                                       \n",
    "                       { \"globalCenter\": { 'x': 0, 'y': -250, 'z': 0 } },               \n",
    "                       options);                                                        \n",
    "neu3d.addBloomPassBtn();\n",
    "...\n",
    "```\n",
    "\n",
    "<img src='figures/settings_2.png' width=500px>"
   ]
  },
  {
   "cell_type": "markdown",
   "metadata": {},
   "source": [
    "## Development Ideas"
   ]
  },
  {
   "cell_type": "markdown",
   "metadata": {},
   "source": [
    "A few ideas to get you started:\n",
    "1. Animation:\n",
    "    * Add additional animation functions, e.g. orbit camera around object, etc.\n",
    "    * See [Here](https://github.com/mkturkcan/Cameraman) for an example. Note that the example assumes the existance of `ffbomesh` object, which is the same as the `neu3d` instance  \n",
    "2. Visualization:\n",
    "    * Add background \n",
    "    * Create rendering presets "
   ]
  },
  {
   "cell_type": "markdown",
   "metadata": {},
   "source": [
    "## Reference: [SWC](http://research.mssm.edu/cnic/swc.html) Format\n",
    "SWC format files are formatted as:\n",
    "```\n",
    "1 1 14.566132 34.873772 7.857000 0.717830 -1\n",
    "2 0 16.022520 33.760513 7.047000 0.463378 1\n",
    "3 5 17.542000 32.604973 6.885001 0.638007 2\n",
    "4 0 19.163984 32.022469 5.913000 0.602284 3\n",
    "5 0 20.448090 30.822802 4.860000 0.436025 4\n",
    "6 6 21.897903 28.881084 3.402000 0.471886 5\n",
    "7 0 18.461960 30.289471 8.586000 0.447463 3\n",
    "8 6 19.420759 28.730757 9.558000 0.496217 7\n",
    "...\n",
    "```\n",
    "where the columns are  \n",
    "> **n T x y z R P**\n",
    "\n",
    "and they refer to :\n",
    "* **n**: an integer label that identifies the current point and increments by one from one line to the next.\n",
    "* **T**: an integer representing the type of neuronal segment, such as soma, axon, apical dendrite, etc. The standard accepted integer values are given below.\n",
    "    - 0 = undefined\n",
    "    - 1 = soma\n",
    "    - 2 = axon\n",
    "    - 3 = dendrite\n",
    "    - 4 = apical dendrite\n",
    "    - 5 = fork point\n",
    "    - 6 = end point\n",
    "    - 7 = custom\n",
    "* **x, y, z**: the cartesian coordinates of each node.\n",
    "* **R**: the radius at that node.\n",
    "* **P**: the parent (the integer label) of the current point or -1 to indicate an origin (soma)."
   ]
  },
  {
   "cell_type": "markdown",
   "metadata": {},
   "source": [
    "## Reference: Neu3D Usage\n",
    "After building `Neu3D` and launching http server, navigate to `localhost:8000` and you'll see the following figure\n",
    "\n",
    "<img src='figures/neu3d.png' width=500px>"
   ]
  },
  {
   "cell_type": "markdown",
   "metadata": {},
   "source": [
    "### User Interactions\n",
    "A few operators are exposed to the user view the modified [dat.GUI](https://github.com/dataarts/dat.gui) module shown on the top right of the page.\n",
    "\n",
    "<img src='figures/settings.png' width=400px>"
   ]
  },
  {
   "cell_type": "markdown",
   "metadata": {},
   "source": [
    "From _left to right_, the buttons are:\n",
    "1. Upload SWC file\n",
    "2. Reset View to default canvas\n",
    "3. Reset View to visible objects in the workspace\n",
    "4. Hide all objects\n",
    "5. Show all objects\n",
    "6. Take Screenshot\n",
    "7. Remove all unpinned neurons\n",
    "8. Unpin all neurons\n",
    "9. Toggle settings menu"
   ]
  },
  {
   "cell_type": "markdown",
   "metadata": {},
   "source": [
    "### Settings\n",
    "The visualization settings directly affect the rendering of objects in the canvas. The main option here is to toggle 3D rendering of neurons. \n",
    "To improve rendering efficiency, neurons are by default rendered as 2D wires since 3D objects require significantly more CPU/GPU resources for rendering. \n",
    "\n",
    "\n",
    "<img src='figures/neu3d_settings.png' style='height:500px'>"
   ]
  },
  {
   "cell_type": "code",
   "execution_count": null,
   "metadata": {},
   "outputs": [],
   "source": []
  }
 ],
 "metadata": {
  "celltoolbar": "Slideshow",
  "kernelspec": {
   "display_name": "Python 3",
   "language": "python",
   "name": "python3"
  },
  "language_info": {
   "codemirror_mode": {
    "name": "ipython",
    "version": 3
   },
   "file_extension": ".py",
   "mimetype": "text/x-python",
   "name": "python",
   "nbconvert_exporter": "python",
   "pygments_lexer": "ipython3",
   "version": "3.6.5"
  },
  "livereveal": {
   "theme": "serif"
  }
 },
 "nbformat": 4,
 "nbformat_minor": 2
}
