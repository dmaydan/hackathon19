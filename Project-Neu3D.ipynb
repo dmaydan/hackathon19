{
 "cells": [
  {
   "cell_type": "markdown",
   "metadata": {
    "slideshow": {
     "slide_type": "slide"
    }
   },
   "source": [
    "# Neu3D : FFBH2019 - Project\n",
    "`Neu3D` ([NPM](https://www.npmjs.com/package/neu3d), [GitHub](https://github.com/fruitflybrain/neu3d)) is a 3D SWC visualization package. In it's current incarnation, Neu3D focuses on Fruitfly brain visualization and provides a collection of user interactions that drives `NeuroNLP`. \n",
    "\n",
    "A copy of `Neu3D` source code has been included as a _git submodule_ under `packages/neu3d`. \n",
    "* If you want to play with `neu3d`, navigate to root (`hackathon19/`) and pull the latest neu3d commit as by typing `git submodule update --init packages/neu3d`\n",
    "* If you want to contribute to `neu3d`, create a fork of the [repo](https://github.com/fruitflybrain/neu3d) and submit a pull request to the master branch."
   ]
  },
  {
   "cell_type": "code",
   "execution_count": 10,
   "metadata": {},
   "outputs": [
    {
     "ename": "SyntaxError",
     "evalue": "invalid syntax (<ipython-input-10-7ebf9b7b701a>, line 1)",
     "output_type": "error",
     "traceback": [
      "\u001b[0;36m  File \u001b[0;32m\"<ipython-input-10-7ebf9b7b701a>\"\u001b[0;36m, line \u001b[0;32m1\u001b[0m\n\u001b[0;31m    display(HTML(<html>\u001b[0m\n\u001b[0m                 ^\u001b[0m\n\u001b[0;31mSyntaxError\u001b[0m\u001b[0;31m:\u001b[0m invalid syntax\n"
     ]
    }
   ],
   "source": [
    "display(HTML('''<html>\n",
    "  <head>\n",
    "    <title>Neu3d Test</title>\n",
    "    <script type=\"text/javascript\" src=\" https://cdnjs.cloudflare.com/ajax/libs/jquery/3.3.1/jquery.min.js\"></script>\n",
    "    <script src=\"./packages/neu3d/src/neu3d.js\"> </script>\n",
    "  </head>\n",
    "  <body>\n",
    "    <div id=\"vis-3d\" class=\"vis-3d\" style=\"width: 100%; height: 100%;\"></div>\n",
    "    <script>\n",
    "      parentDiv = document.getElementById(\"vis-3d\");\n",
    "      options = {\n",
    "        'stats': true, // set to false if you don't want to see stats\n",
    "        'datGUI': {\n",
    "          autoPlace: false,\n",
    "          resizable: false,\n",
    "          closed: true,\n",
    "          hideable: true\n",
    "        }\n",
    "      }\n",
    "      var ffbomesh = new Neu3D(parentDiv,\n",
    "                               undefined,\n",
    "                               { \"globalCenter\": { \"x\": 0, \"y\": -250, \"z\": 0 } },\n",
    "                               options);\n",
    "\n",
    "#       window.ffbomesh = ffbomesh;\n",
    "\n",
    "      $.getJSON(\"./data/data.json\", function (json) {\n",
    "        ffbomesh.addJson({\n",
    "          ffbo_json: json,\n",
    "          showAfterLoadAll: true\n",
    "        });\n",
    "      });\n",
    "\n",
    "\n",
    "      $(document).ready(() => {\n",
    "        ffbomesh.onWindowResize();\n",
    "        document.getElementById(\"neu3d-file-upload\").click();\n",
    "      });\n",
    "    </script>\n",
    "  </body>\n",
    "</html>'''))"
   ]
  },
  {
   "cell_type": "code",
   "execution_count": 6,
   "metadata": {},
   "outputs": [
    {
     "data": {
      "text/html": [
       "<html>\n",
       "  <head>\n",
       "    <title>Neu3d Test</title>\n",
       "    <script type=\"text/javascript\" src=\" https://cdnjs.cloudflare.com/ajax/libs/jquery/3.3.1/jquery.min.js\"></script>\n",
       "    <!-- <link rel=\"stylesheet\" href=\"https://use.fontawesome.com/releases/v5.0.13/css/all.css\" integrity=\"sha384-DNOHZ68U8hZfKXOrtjWvjxusGo9WQnrNx2sqG0tfsghAvtVlRW3tvkXWZh58N9jp\"\n",
       "      crossorigin=\"anonymous\"> -->\n",
       "    <script src=\"./packages/neu3d/src/neu3d.js\"> </script>\n",
       "  </head>\n",
       "  <body>\n",
       "    <div id=\"vis-3d\" class=\"vis-3d\" style=\"width: 100%; height: 100%;\"></div>\n",
       "    <script>\n",
       "      const parentDiv = document.getElementById('vis-3d');\n",
       "      let options = {\n",
       "        'stats': true, // set to false if you don't want to see stats\n",
       "        'datGUI': {\n",
       "          autoPlace: false,\n",
       "          resizable: false,\n",
       "          closed: true,\n",
       "          hideable: true\n",
       "        }\n",
       "      }\n",
       "      var ffbomesh = new Neu3D(parentDiv,\n",
       "                               undefined,\n",
       "                               { \"globalCenter\": { 'x': 0, 'y': -250, 'z': 0 } },\n",
       "                               options);\n",
       "\n",
       "      window.ffbomesh = ffbomesh;\n",
       "\n",
       "      $.getJSON(\"./data/data.json\", function (json) {\n",
       "        ffbomesh.addJson({\n",
       "          ffbo_json: json,\n",
       "          showAfterLoadAll: true\n",
       "        });\n",
       "      });\n",
       "\n",
       "\n",
       "      $(document).ready(() => {\n",
       "        ffbomesh.onWindowResize();\n",
       "        document.getElementById('neu3d-file-upload').click();\n",
       "      });\n",
       "    </script>\n",
       "  </body>\n",
       "</html>\n"
      ],
      "text/plain": [
       "<IPython.core.display.HTML object>"
      ]
     },
     "metadata": {},
     "output_type": "display_data"
    }
   ],
   "source": []
  },
  {
   "cell_type": "code",
   "execution_count": null,
   "metadata": {},
   "outputs": [],
   "source": []
  },
  {
   "cell_type": "code",
   "execution_count": null,
   "metadata": {},
   "outputs": [],
   "source": []
  },
  {
   "cell_type": "code",
   "execution_count": null,
   "metadata": {},
   "outputs": [],
   "source": []
  },
  {
   "cell_type": "code",
   "execution_count": null,
   "metadata": {},
   "outputs": [],
   "source": []
  }
 ],
 "metadata": {
  "celltoolbar": "Slideshow",
  "kernelspec": {
   "display_name": "Javascript (Node.js)",
   "language": "javascript",
   "name": "javascript"
  },
  "language_info": {
   "file_extension": ".js",
   "mimetype": "application/javascript",
   "name": "javascript",
   "version": "9.11.1"
  },
  "livereveal": {
   "theme": "serif"
  }
 },
 "nbformat": 4,
 "nbformat_minor": 2
}
